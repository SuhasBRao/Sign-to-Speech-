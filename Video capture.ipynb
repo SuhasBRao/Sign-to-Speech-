{
 "cells": [
  {
   "cell_type": "code",
   "execution_count": null,
   "metadata": {},
   "outputs": [],
   "source": [
    "import cv2\n",
    "import numpy as np\n",
    "import tensorflow as tf"
   ]
  },
  {
   "cell_type": "code",
   "execution_count": null,
   "metadata": {},
   "outputs": [],
   "source": [
    "classes = {0:'1',1:'2',2:'3', 3:'4', 4:'5', 5:'6', 6:'7', 7:'8',\n",
    "           8:'9',9:'A',10:'B',11:'C',12:'D',13:'E',14:'F',15:'G',16:'H',17:'I',\n",
    "           18:'J',19:'K',20:'L',21:'M',22:'N',23:'O',24:'P',25:'Q',26:'R',27:'S',28:'T',29:'U',\n",
    "           30:'V',31:'W',32:'X',33:'Y',34:'Z'}"
   ]
  },
  {
   "cell_type": "code",
   "execution_count": 74,
   "metadata": {},
   "outputs": [],
   "source": [
    "background = None\n",
    "accumulated_weight = 0.7\n",
    "mask_color = (0.0,0.0,0.0)\n",
    "\n",
    "ROI_top = 100\n",
    "ROI_bottom = 400\n",
    "ROI_right = 300\n",
    "ROI_left = 600"
   ]
  },
  {
   "cell_type": "code",
   "execution_count": 75,
   "metadata": {},
   "outputs": [],
   "source": [
    "max_area = 0.95\n",
    "min_area = 0.0005\n",
    "#contour_info = []"
   ]
  },
  {
   "cell_type": "code",
   "execution_count": 76,
   "metadata": {},
   "outputs": [],
   "source": [
    "def cal_accum_avg(frame, accumulated_weight):\n",
    "\n",
    "    global background\n",
    "    \n",
    "    if background is None:\n",
    "        background = frame.copy().astype(\"float\")\n",
    "        return None\n",
    "\n",
    "    cv2.accumulateWeighted(frame, background, accumulated_weight)"
   ]
  },
  {
   "cell_type": "code",
   "execution_count": 77,
   "metadata": {},
   "outputs": [],
   "source": [
    "def segment_hand(frame, threshold=10):\n",
    "    global background\n",
    "    \n",
    "    diff = cv2.absdiff(background.astype(\"uint8\"), frame)\n",
    "\n",
    "    \n",
    "    _ , thresholded = cv2.threshold(diff, threshold, 255,cv2.THRESH_BINARY)\n",
    "    \n",
    "    edges = cv2.Canny(thresholded, threshold1= 30, threshold2=250)\n",
    "    #cv2.imshow('edges',edges)\n",
    "    \n",
    "     #Fetching contours in the frame (These contours can be of hand\n",
    "    #or any other object in foreground) …\n",
    "\n",
    "    contours, hierarchy = cv2.findContours(thresholded.copy(), cv2.RETR_EXTERNAL,cv2.CHAIN_APPROX_SIMPLE)\n",
    "    \n",
    "    # If length of contours list = 0, means we didn't get any\n",
    "    #contours...\n",
    "    if len(contours) == 0:\n",
    "        return None\n",
    "    else:\n",
    "        # The largest external contour should be the hand\n",
    "        #contour_info = [(c, cv2.contourArea(c),) for c in contours[1]]\n",
    "        cntrs, heirs = cv2.findContours(thresholded.copy(), cv2.RETR_LIST, cv2.CHAIN_APPROX_NONE)\n",
    "\n",
    "        contour_info = [(c, cv2.contourArea(c),) for c in cntrs]\n",
    "        #for c in contours[1]:\n",
    "        #    contour_info.append((c,cv2.contourArea(c),))\n",
    "        \n",
    "        hand_segment_max_cont = max(contours, key=cv2.contourArea)\n",
    "        \n",
    "        # Returning the hand segment(max contour) and the\n",
    "  #thresholded image of hand...\n",
    "    return (thresholded, hand_segment_max_cont, contour_info)"
   ]
  },
  {
   "cell_type": "code",
   "execution_count": 78,
   "metadata": {
    "tags": []
   },
   "outputs": [],
   "source": [
    "cam = cv2.VideoCapture(0)\n",
    "num_frames = 0\n",
    "fgbg = cv2.createBackgroundSubtractorMOG2()\n",
    "global background\n",
    "\n",
    "while True:\n",
    "    ret, frame = cam.read()\n",
    "\n",
    "    # flipping the frame to prevent inverted image of captured frame...\n",
    "    \n",
    "    frame = cv2.flip(frame, 1)\n",
    "\n",
    "    frame_copy = frame.copy()\n",
    "\n",
    "    # ROI from the frame\n",
    "    \n",
    "    roi = frame[ROI_top:ROI_bottom, ROI_right:ROI_left]\n",
    "    \n",
    "    gray_frame = cv2.cvtColor(roi, cv2.COLOR_BGR2GRAY)\n",
    "    gray_frame = cv2.GaussianBlur(gray_frame, (5, 5), 0)\n",
    "\n",
    "    if num_frames < 200:\n",
    "        \n",
    "        cal_accum_avg(gray_frame, accumulated_weight)\n",
    "        \n",
    "        cv2.putText(frame_copy, \"FETCHING BACKGROUND...PLEASE WAIT\", (80, 400), cv2.FONT_HERSHEY_SIMPLEX, 0.9, (0,0,255), 2)\n",
    "    \n",
    "    else:\n",
    "        if num_frames in range(200,230):\n",
    "            cv2.putText(frame_copy, \"Now you can gesture\", (80, 400), \n",
    "            cv2.FONT_HERSHEY_SIMPLEX, 0.9, (0,255,0), 2)\n",
    "        else:\n",
    "            hand = segment_hand(gray_frame)\n",
    "\n",
    "            if hand is not None:\n",
    "                \n",
    "                thresholded, hand_segment, contour_info = hand\n",
    "\n",
    "                # Drawing contours around hand segment\n",
    "                cv2.drawContours(frame_copy, [hand_segment + (ROI_right,ROI_top)], -1, (255, 0, 0),1)\n",
    "                \n",
    "                cv2.imshow(\"Thesholded Hand Image\", thresholded)\n",
    "                \n",
    "                thresholded = cv2.resize(thresholded, (64, 64))\n",
    "                thresholded = cv2.cvtColor(thresholded,cv2.COLOR_GRAY2RGB)\n",
    "                thresholded = np.reshape(thresholded,(1,thresholded.shape[0],thresholded.shape[1],3))\n",
    "                \n",
    "                image_area = gray_frame.shape[0] * gray_frame.shape[1]  \n",
    "                max_area = 0.95 * image_area\n",
    "                min_area = 0.005 * image_area\n",
    "                \n",
    "                mask = np.zeros(roi.shape, dtype = np.uint8)\n",
    "\n",
    "                for contour in contour_info:\n",
    "                # Instead of worrying about all the smaller contours, if the area\n",
    "                #  is smaller than the min, the loop will break\n",
    "                    #print('y')\n",
    "                    #print(contour[1])\n",
    "                    if contour[1] > min_area and contour[1] < max_area:\n",
    "                        # Add contour to mask\n",
    "                        \n",
    "                        mask = cv2.fillConvexPoly(mask, contour[0], (255,255,255))\n",
    "                #cv2.imshow('mask',mask)\n",
    "\n",
    "                mask = cv2.dilate(mask, None, iterations=10)\n",
    "                mask = cv2.erode(mask, None, iterations=10)\n",
    "                mask = cv2.GaussianBlur(mask, (21, 21), 0)\n",
    "\n",
    "                cv2.imshow('mask',mask)     \n",
    "                mask_stack = mask.astype('float32') / 255.0           \n",
    "                roi = roi.copy().astype('float32') / 255.0\n",
    "\n",
    "\n",
    "                # Blend the image and the mask\n",
    "                masked = (mask_stack * roi) + ((1-mask_stack) * mask_color)\n",
    "                masked = (masked * 255).astype('uint8')\n",
    "                cv2.imshow(\"Foreground\", masked)\n",
    "\n",
    "    # incrementing the number of frames for tracking\n",
    "    num_frames += 1\n",
    "\n",
    "    # Display the frame with segmented hand\n",
    "    \n",
    "    # Get the area of the image as a comparison\n",
    "\n",
    "    \n",
    "    cv2.rectangle(frame_copy, (ROI_left, ROI_top), (ROI_right,ROI_bottom), (255,128,0), 3)\n",
    "    \n",
    "    cv2.putText(frame_copy, \"Sign language recognition_ _ _\",\n",
    "    (10, 20), cv2.FONT_ITALIC, 0.5, (51,255,51), 1)\n",
    "    \n",
    "    cv2.imshow(\"Sign Detection\", frame_copy)\n",
    "    \n",
    "    \n",
    "    k = cv2.waitKey(1) & 0xFF\n",
    "\n",
    "    if k == 27:\n",
    "        break\n",
    "\n",
    "# Release the camera and destroy all the windows\n",
    "cam.release()\n",
    "cv2.destroyAllWindows()"
   ]
  },
  {
   "cell_type": "code",
   "execution_count": 73,
   "metadata": {},
   "outputs": [],
   "source": [
    "cam.release()"
   ]
  },
  {
   "cell_type": "code",
   "execution_count": 27,
   "metadata": {},
   "outputs": [
    {
     "output_type": "stream",
     "name": "stdout",
     "text": [
      "89100.0 45.0\n"
     ]
    }
   ],
   "source": [
    "print(max_area,min_area)"
   ]
  },
  {
   "cell_type": "code",
   "execution_count": null,
   "metadata": {},
   "outputs": [],
   "source": [
    "reloaded = tf.keras.models.load_model('C:/Users/suhas/Downloads/best_model_ISL.h5')"
   ]
  },
  {
   "cell_type": "code",
   "execution_count": null,
   "metadata": {},
   "outputs": [],
   "source": [
    "thresholded = cv2.resize(img, (150, 150))\n",
    "\n",
    "#thresholded = cv2.cvtColor(thresholded,\n",
    "#                          cv2.COLOR_GRAY2RGB)\n",
    "\n",
    "gray = cv2.cvtColor(thresholded,cv2.COLOR_BGR2GRAY)\n",
    "gray_frame = cv2.GaussianBlur(gray,(5,5),cv2.BORDER_CONSTANT)\n",
    "cv2.imshow('gray',gray_frame)\n",
    "cv2.waitKey(0)\n",
    "cv2.destroyAllWindows()\n",
    "\n",
    "ret, mask = cv2.threshold(gray_frame, 200, 255, cv2.THRESH_TOZERO + cv2.THRESH_OTSU)\n",
    "#cv2.imshow('mask',mask)\n",
    "    \n",
    "edges = cv2.Canny(gray_frame, threshold1= 100, threshold2=250)\n",
    "\n",
    "cv2.imshow('gray',edges)\n",
    "cv2.waitKey(0)\n",
    "cv2.destroyAllWindows()\n",
    "\n",
    "thresholded = np.reshape(thresholded,\n",
    "                         (1,thresholded.shape[0],thresholded.shape[1],3))\n",
    "print(thresholded.shape)\n",
    "#pred = reloaded.predict(thresholded)"
   ]
  },
  {
   "cell_type": "code",
   "execution_count": null,
   "metadata": {},
   "outputs": [],
   "source": [
    "print(classes[np.argmax(pred)])"
   ]
  },
  {
   "cell_type": "code",
   "execution_count": null,
   "metadata": {},
   "outputs": [],
   "source": []
  }
 ],
 "metadata": {
  "kernelspec": {
   "name": "python374jvsc74a57bd01aa32c3e39cce6b6a2a7f2e9227e06d8322f53ac0b3d2a2ea2c1a4485a851f90",
   "display_name": "Python 3.7.4 64-bit (conda)"
  },
  "language_info": {
   "codemirror_mode": {
    "name": "ipython",
    "version": 3
   },
   "file_extension": ".py",
   "mimetype": "text/x-python",
   "name": "python",
   "nbconvert_exporter": "python",
   "pygments_lexer": "ipython3",
   "version": "3.7.4"
  }
 },
 "nbformat": 4,
 "nbformat_minor": 2
}